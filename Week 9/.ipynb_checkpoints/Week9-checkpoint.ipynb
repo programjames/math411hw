{
 "cells": [
  {
   "cell_type": "markdown",
   "metadata": {},
   "source": [
    "**NOTE:** Most code is written in Python 3 with the packages `numpy`, `sympy`, and `matplotlib` installed."
   ]
  },
  {
   "cell_type": "markdown",
   "metadata": {},
   "source": [
    "### 13.5.3\n",
    "\n",
    "The definition is\n",
    "\n",
    "$$v_{\\ell}^{(k)} = c\\sin\\left(\\frac{k\\ell\\pi}{m+1}\\right)$$\n",
    "\n",
    "where $c=\\sqrt{\\frac{2}{m+1}}$ is constant.\n",
    "\n",
    "----\n",
    "**Case 1:** $j\\ne k$\n",
    "\n",
    "$$\\sum_{\\ell=1}^m v_\\ell^{(k)}v_\\ell^{(j)} = c^2 \\sum_{\\ell=1}^m\\sin\\left(\\frac{k\\ell\\pi}{m+1}\\right)\\sin\\left(\\frac{j\\ell\\pi}{m+1}\\right)$$"
   ]
  },
  {
   "cell_type": "markdown",
   "metadata": {},
   "source": [
    "Notice that\n",
    "$$\\sin\\left(\\frac{k\\ell}{m+1}\\right)\\sin\\left(\\frac{j\\ell}{m+1}\\right)=\n",
    "\\frac12\\left[\\cos\\left(\\frac{(k-j)\\ell}{m+1}\\right)-\\cos\\left(\\frac{(k+j)\\ell}{m+1}\\right)\\right]$$\n",
    "\n",
    "and\n",
    "\n",
    "$$2\\sin(a)\\sum_{\\ell=1}^m \\cos(2a\\ell) = \\sum_{\\ell=1}^m\\sin(2a\\ell+a)-\\sin(2a\\ell -a) = \\sin((2m+1)a)-\\sin(a)$$\n",
    "\n",
    "Therefore (taking $a=\\frac{(k\\pm j)\\pi}{2m+2}$),\n",
    "\n",
    "$$\\sum_{\\ell=1}^m \\cos\\left(\\frac{(k\\pm j)\\ell\\pi}{m+1}\\right) = \\frac{\\sin\\left(\\frac{(2m+1)(k\\pm j)\\pi}{2m+2}\\right)}{2\\sin\\left(\\frac{(k\\pm j)\\pi}{2m+2}\\right)}-\\frac12$$\n",
    "\n",
    "Now, if $k\\pm j$ is even ($k+j\\equiv k-j\\pmod{2}$) then\n",
    "\n",
    "$$\\sin\\left(\\frac{(2m+1)(k\\pm j)\\pi}{2m+2}\\right) = -\\sin\\left(\\frac{(k\\pm j)\\pi}{2m+2}\\right)$$\n",
    "\n",
    "and it all reduces to $-1$. If $k\\pm j$ is odd then\n",
    "\n",
    "$$\\sin\\left(\\frac{(2m+1)(k\\pm j)\\pi}{2m+2}\\right) = \\sin\\left(\\frac{(k\\pm j)\\pi}{2m+2}\\right)$$\n",
    "\n",
    "and it reduces to $0$."
   ]
  },
  {
   "cell_type": "markdown",
   "metadata": {},
   "source": [
    "Then\n",
    "\n",
    "$$\\sum_{\\ell=1}^m \\cos\\left(\\frac{(k - j)\\ell\\pi}{m+1}\\right) - \\sum_{\\ell=1}^m \\cos\\left(\\frac{(k + j)\\ell\\pi}{m+1}\\right) = 0,$$\n",
    "\n",
    "and\n",
    "\n",
    "$$\\sum_{\\ell=1}^m v_\\ell^{(k)}v_\\ell^{(j)} = \\frac{c^2}{2}\\cdot 0 = 0$$"
   ]
  },
  {
   "cell_type": "markdown",
   "metadata": {},
   "source": [
    "**Case 2:** $j=k$\n",
    "\n",
    "The reason the above proof breaks when $j=k$ is because $\\sin(a) = 0$ when $a=\\frac{(k-j)\\pi}{m+1}$ so we cannot divide by it.\n",
    "\n",
    "Anyway, if $j=k$ then $j+k$ is even and so (from the above)\n",
    "\n",
    "$$\\sum_{l=1}^m \\cos\\left(\\frac{(k + j)\\ell\\pi}{m+1}\\right) = -1.$$\n",
    "\n",
    "Also,\n",
    "\n",
    "$$\\sum_{l=1}^m \\cos\\left(\\frac{(k - j)\\ell\\pi}{m+1}\\right) = m\\cos(0) = m$$\n",
    "\n",
    "Then\n",
    "\n",
    "$$\\sum_{\\ell=1}^m v_\\ell^{(k)}v_\\ell^{(j)} = \\frac{c^2}{2}\\cdot (m+1) = 1.$$\n",
    "\n",
    "----\n",
    "\n",
    "Then the vectors $\\textbf{v}^{(k)}$ form an orthonormal basis."
   ]
  },
  {
   "cell_type": "markdown",
   "metadata": {},
   "source": [
    "### 13.5.5\n",
    "\n",
    "**(a)** Notice that if $u$ satisfies the given equation it also satisfies\n",
    "\n",
    "$$\\int_{0}^1 \\phi_j\\frac{d}{dx}\\left((1+x^2)\\frac{du}{dx}\\right) dx = \\int_{0}^1 f\\phi_j dx$$\n",
    "$$\\Longleftrightarrow$$\n",
    "$$-\\int_0^1\\phi_j'(1+x^2)u'dx = \\int_0^1 f\\phi_j dx$$\n",
    "because\n",
    "$$\\left.\\phi_j(x)(1+x^2)u'(x)\\right|_{0}^1 = 0.$$\n",
    "\n",
    "Now let\n",
    "\n",
    "$$\\hat{u}\\sum_{i=1}^{n-1}c_i\\phi_i$$\n",
    "be an approximate solution to $u$. We want it to satisfy the equations\n",
    "\n",
    "$$-\\int_0^1\\phi_j'(1+x^2)\\hat{u}'dx = \\int_{h(j-1)}^{h(j+1)} f\\phi_j dx$$\n",
    "$$\\Longleftrightarrow$$\n",
    "$$-\\sum_{i=1}^{n-1}\\int_0^1\\phi_j'(1+x^2)c_i\\phi_i'dx = \\int_0^1f\\phi_j dx$$\n",
    "\n",
    "which is equivalent to\n",
    "\n",
    "$$A\\textbf{c} = \\textbf{f}$$\n",
    "where\n",
    "$$f_j = -\\int_0^1f\\phi_j dx$$\n",
    "and\n",
    "$$a_{ij}=\\int_0^1\\phi_j'(1+x^2)c_i\\phi_i'dx$$\n",
    "\n",
    "Now, if $|i-j| > 1$, one of $\\phi'_i, \\phi'_j$ is equal to $0$ for any $x$, so $a_{ij}=0$.\n",
    "\n",
    "If $i=j$ then we have\n",
    "\n",
    "$$a_{ii} = \\int_{h(i-1)}^{h(i+1)}\\frac{1+x^2}{h^2}dx = \\frac2h + h\\left(2i^2+\\frac23\\right).$$\n",
    "\n",
    "If $|i-j|=1$ and $\\text{min}(i, j)=k,$ then\n",
    "\n",
    "$$a_{ij} = -\\int_{hk}^{h(k+1)}\\frac{1+x^2}{h}dx = -\\frac{1}{h}-h\\left(k^2+k+\\frac13\\right).$$\n",
    "\n",
    "**(b)** Code follows below:"
   ]
  },
  {
   "cell_type": "code",
   "execution_count": 129,
   "metadata": {},
   "outputs": [
    {
     "name": "stdout",
     "output_type": "stream",
     "text": [
      "Error:\n"
     ]
    },
    {
     "data": {
      "image/png": "[encoded data removed]",
      "text/plain": [
       "<Figure size 432x288 with 1 Axes>"
      ]
     },
     "metadata": {
      "needs_background": "light"
     },
     "output_type": "display_data"
    },
    {
     "name": "stdout",
     "output_type": "stream",
     "text": [
      "Gobal error:\n",
      "0.009105166694484801\n"
     ]
    }
   ],
   "source": [
    "import numpy as np\n",
    "import sympy as sp\n",
    "from sympy.abc import x\n",
    "import matplotlib.pyplot as plt\n",
    "\n",
    "f = -2*(3*x**2 - x + 1)\n",
    "\n",
    "n = 20\n",
    "h=1/n\n",
    "\n",
    "phi = []\n",
    "phi_lefts = [1-i+x/h for i in range(1, n)]\n",
    "phi_rights = [-x/h+1+i for i in range(1, n)]\n",
    "for i in range(1, n):\n",
    "    phi.append(sp.Piecewise(\n",
    "        (0, x<h*(i-1)),\n",
    "        (0, x>h*(i+1)),\n",
    "        (phi_lefts[i-1], x <= h*i),\n",
    "        (phi_rights[i-1], x <= h*(i+1))\n",
    "    ))\n",
    "    \n",
    "A = [[0 for i in range(n-1)] for j in range(n-1)]\n",
    "for i in range(n-1):\n",
    "    A[i][i] = 2*n + h*(2*i**2 + 2/3)\n",
    "    if i < n-2:\n",
    "        A[i][i+1] = -n - h*(i**2+i+1/3)\n",
    "        A[i+1][i] = -n - h*(i**2+i+1/3)\n",
    "        \n",
    "A = sp.Matrix(A)\n",
    "fs = []\n",
    "for i in range(n-1):\n",
    "    # quicker to break it into left/right parts when integrating\n",
    "    v = sp.integrate(f*phi_lefts[i], (x, h*(i), h*(i+1)))+sp.integrate(f*phi_rights[i], (x, h*(i+1), h*(i+2)))\n",
    "    fs.append(v)\n",
    "\n",
    "A_inv = np.array(A.inv()).astype(np.float64)\n",
    "g = np.array(fs).astype(np.float64)\n",
    "\n",
    "c = -A_inv @ g\n",
    "\n",
    "u_hat = sum(c[i]*phi[i] for i in range(n-1))\n",
    "u =  x*(1-x)\n",
    "\n",
    "error = sp.lambdify(x, abs(u_hat-u))\n",
    "\n",
    "print(\"Error:\")\n",
    "sp.plot(u_hat-u, (x, 0, 1))\n",
    "\n",
    "print(\"Gobal error:\")\n",
    "print(max(error(np.linspace(0, 1, n*n))))"
   ]
  },
  {
   "cell_type": "markdown",
   "metadata": {},
   "source": [
    "**(c)** For $n=5$ we get an error of about $0.0325$. For $n=10$ the global error is around $0.018$, and for $n=20$ the error is about $0.0091$. The error is approximately halves each time $n$ doubles, and so this Galerkin method is second order."
   ]
  },
  {
   "cell_type": "markdown",
   "metadata": {},
   "source": [
    "### 13.5.6\n",
    "**(a)** We have\n",
    "$$\\frac{d^2\\phi_j(x)}{dx^2} = -j^2\\pi^2\\phi_j$$\n",
    "\n",
    "And so we want\n",
    "$$-\\sum_{j=1}^3c_jj^2\\pi^2\\phi_j = \\sum_{j=1}^3c_j\\phi_j + x^2$$\n",
    "to be true for $x=1/4, 2/4, 3/4$. Rearranging we have\n",
    "\n",
    "$$\\sum_{j=1}^3(1+j^2\\pi^2)c_j\\phi_j(x)=-x^2$$\n",
    "Taking $x=1/4, 2/4, 3/4$ we get the three equations\n",
    "\n",
    "$$\\frac{c_1(1+\\pi^2)}{\\sqrt2} + c_2(1+4\\pi^2) - \\frac{c_3(1+9\\pi^2)}{\\sqrt2} = -\\frac{1}{16}$$\n",
    "$$c_1(1+\\pi^2) - c_3(1+9\\pi^2) = -\\frac{1}{4}$$\n",
    "$$-\\frac{c_1(1+\\pi^2)}{\\sqrt2} - c_2(1+4\\pi^2) + \\frac{c_3(1+9\\pi^2)}{\\sqrt2} = -\\frac{9}{16}$$\n",
    "\n",
    "The first and third equations are negatives of each other (for the LHS), but\n",
    "$$-\\left(-\\frac{1}{16}\\right)\\ne -\\frac{9}{16}$$\n",
    "so there's no solution!"
   ]
  },
  {
   "cell_type": "markdown",
   "metadata": {},
   "source": [
    "**(b)** This time\n",
    "\n",
    "$$\\phi''_1(x) = -2,\\quad \\phi''_2(x) = 2-6x,\\quad \\phi''_3(x) = 6-12x$$\n",
    "\n",
    "and so plugging in $x=1/4, 2/4, 3/4$ we get the equations\n",
    "\n",
    "$$-\\frac{35}{16}c_1 + \\frac{29}{64}c_2 + \\frac{765}{256}c_3 = \\frac1{16}$$\n",
    "\n",
    "$$-\\frac94c_1 -\\frac98 c_2 -\\frac1{16}c_3 = \\frac14$$\n",
    "\n",
    "$$-\\frac{35}{16}c_1 -\\frac{169}{64}c_2 -\\frac{795}{256}c_3 = \\frac9{16}$$\n",
    "\n",
    "which does have a solution.\n"
   ]
  },
  {
   "cell_type": "code",
   "execution_count": 151,
   "metadata": {},
   "outputs": [
    {
     "name": "stdout",
     "output_type": "stream",
     "text": [
      "-35/16 29/64 765/256 1/16\n",
      "-9/4 -9/8 -1/16 1/4\n",
      "-35/16 -169/64 -795/256 9/16\n"
     ]
    }
   ],
   "source": [
    "# Calculate the coefficients for (b)...\n",
    "\n",
    "from fractions import Fraction\n",
    "\n",
    "phipps = [lambda x: -2, lambda x: 2-6*x, lambda x: 6-12*x]\n",
    "phis = [lambda x: x*(1-x), lambda x: x**2*(1-x), lambda x: x**3*(1-x)]\n",
    "\n",
    "for x in [Fraction(1, 4), Fraction(2, 4), Fraction(3, 4)]:\n",
    "    c = []\n",
    "    for j in range(3):\n",
    "        c.append(phipps[j](x) - phis[j](x))\n",
    "    print(*c, x**2)"
   ]
  },
  {
   "cell_type": "markdown",
   "metadata": {},
   "source": [
    "**(c)**\n",
    "Code is actually written in MATLAB this time, and attached separately.\n",
    "\n",
    "It uses a degree $12$ polynomial with the $13$ Chebyschev points\n",
    "$$p_i = \\frac12+\\frac12\\cos\\left(\\frac{i\\pi}{N}\\right).$$\n",
    "\n",
    "It's global error is $3.4574\\cdot 10^{-13}$ which is good to about machine precision."
   ]
  },
  {
   "cell_type": "markdown",
   "metadata": {},
   "source": [
    "### 4.\n",
    "**(a)**\n",
    "\n",
    "We have\n",
    "$$u''(i)\\approx \\frac{u(i+h) - 2u(i) + u(i-h)}{h^2}$$\n",
    "and\n",
    "$$u'(i)\\approx \\frac{u(i+h)-u(i)}{h}$$\n",
    "\n",
    "So we have\n",
    "\n",
    "$$\\frac{u_{i+1}-2u_{i}+u_{i-1}}{h^2} + \\frac{u_{i+1}-u_{i}}{h} + bu_i = 1$$\n",
    "\n",
    "for $0 < i < n$, and the boundary conditions\n",
    "\n",
    "$$\\frac{u_1-u_0}{h} = 2$$\n",
    "\n",
    "$$\\frac{u_n-u_{n-1}}{h} = -3.$$\n",
    "\n",
    "Solving these equations gives the approximate solution. Code follows:\n"
   ]
  },
  {
   "cell_type": "code",
   "execution_count": 228,
   "metadata": {},
   "outputs": [
    {
     "name": "stdout",
     "output_type": "stream",
     "text": [
      "For h=1/10,\n",
      "u(0.5) = -3.2270545513646445\n"
     ]
    },
    {
     "data": {
      "text/plain": [
       "[<matplotlib.lines.Line2D at 0x25c8c7edb08>]"
      ]
     },
     "execution_count": 228,
     "metadata": {},
     "output_type": "execute_result"
    },
    {
     "data": {
      "image/png": "[encoded data removed]",
      "text/plain": [
       "<Figure size 432x288 with 1 Axes>"
      ]
     },
     "metadata": {
      "needs_background": "light"
     },
     "output_type": "display_data"
    }
   ],
   "source": [
    "def solve(n):\n",
    "    h = 1/n\n",
    "\n",
    "    A = []\n",
    "    b = []\n",
    "\n",
    "    # Left point:\n",
    "    row = np.zeros(n+1)\n",
    "    row[1] = n; row[0] = -n\n",
    "    A.append(row); b.append(2)\n",
    "\n",
    "    # Right point:\n",
    "    row = np.zeros(n+1)\n",
    "    row[-1] = n; row[-2] = -n\n",
    "    A.append(row); b.append(-3)\n",
    "\n",
    "    # Middle points:\n",
    "    for i in range(1, n):\n",
    "        row = np.zeros(n+1)\n",
    "        row[i-1] = n**2\n",
    "        row[i] = -2*n**2 - n + b_value\n",
    "        row[i+1] = n**2 + n\n",
    "        A.append(row); b.append(1)\n",
    "\n",
    "    A = np.array(A)\n",
    "    u = np.linalg.inv(A) @ b\n",
    "    return u\n",
    "\n",
    "b_value = -2\n",
    "\n",
    "n = 100\n",
    "u = solve(n)\n",
    "print(\"For h=1/10,\")\n",
    "print(f\"u(0.5) = {u[n//2]}\")\n",
    "plt.plot(np.linspace(0, 1, n+1), u)"
   ]
  },
  {
   "cell_type": "markdown",
   "metadata": {},
   "source": [
    "**(b)** Rahter than using $h=1/10^j$ I am using $h=1/2^j$ because `numpy`'s default matrix inverse function is too slow for big matrices and I don't want to write a custom function to use the tridiagonal special sauce.\n",
    "\n",
    "The order is about $O(h^2).$\n",
    "\n",
    "Code follows:"
   ]
  },
  {
   "cell_type": "code",
   "execution_count": 250,
   "metadata": {},
   "outputs": [
    {
     "name": "stdout",
     "output_type": "stream",
     "text": [
      "Slope = 2.0646416022684995\n"
     ]
    },
    {
     "data": {
      "image/png": "[encoded data removed]",
      "text/plain": [
       "<Figure size 432x288 with 1 Axes>"
      ]
     },
     "metadata": {
      "needs_background": "light"
     },
     "output_type": "display_data"
    }
   ],
   "source": [
    "e = np.e\n",
    "def u(x):\n",
    "    return -(2+3*e**2)*np.exp(x)/(e**3-1) - (3*e**2+2*e**3)*np.exp(-2*x)/(2*(e**3-1)) - 1/2\n",
    "\n",
    "norms = []\n",
    "hs = []\n",
    "\n",
    "for j in range(2, 12):\n",
    "    n = 2**j\n",
    "    hs.append(1/2**j)\n",
    "    u_hat = solve(n)\n",
    "    u_true = u(np.linspace(0, 1, n+1))\n",
    "    norms.append(max((u_hat-u_true)**2))\n",
    "\n",
    "plt.plot(np.log(hs), np.log(norms))\n",
    "slope, b = np.polyfit(np.log(hs), np.log(norms), 1)\n",
    "print(\"Slope =\",slope)"
   ]
  },
  {
   "cell_type": "markdown",
   "metadata": {},
   "source": [
    "**(c)** The determinant is always $0$. This is because the sum of the values in any row is equal to $0$, and so the columns are not linearly independent."
   ]
  },
  {
   "cell_type": "code",
   "execution_count": 266,
   "metadata": {},
   "outputs": [
    {
     "name": "stdout",
     "output_type": "stream",
     "text": [
      "[[  -7.    7.    0.    0.    0.    0.    0.    0.]\n",
      " [   0.    0.    0.    0.    0.    0.   -7.    7.]\n",
      " [  49. -105.   56.    0.    0.    0.    0.    0.]\n",
      " [   0.   49. -105.   56.    0.    0.    0.    0.]\n",
      " [   0.    0.   49. -105.   56.    0.    0.    0.]\n",
      " [   0.    0.    0.   49. -105.   56.    0.    0.]\n",
      " [   0.    0.    0.    0.   49. -105.   56.    0.]\n",
      " [   0.    0.    0.    0.    0.   49. -105.   56.]]\n"
     ]
    },
    {
     "data": {
      "text/plain": [
       "0.0"
      ]
     },
     "execution_count": 266,
     "metadata": {},
     "output_type": "execute_result"
    }
   ],
   "source": [
    "b_value = 0\n",
    "def get_det(n):\n",
    "    h = 1/n\n",
    "\n",
    "    A = []\n",
    "    b = []\n",
    "\n",
    "    # Left point:\n",
    "    row = np.zeros(n+1)\n",
    "    row[1] = n; row[0] = -n\n",
    "    A.append(row); b.append(2)\n",
    "\n",
    "    # Right point:\n",
    "    row = np.zeros(n+1)\n",
    "    row[-1] = n; row[-2] = -n\n",
    "    A.append(row); b.append(-3)\n",
    "\n",
    "    # Middle points:\n",
    "    for i in range(1, n):\n",
    "        row = np.zeros(n+1)\n",
    "        row[i-1] = n**2\n",
    "        row[i] = -2*n**2 - n + b_value\n",
    "        row[i+1] = n**2 + n\n",
    "        A.append(row); b.append(1)\n",
    "\n",
    "    A = np.array(A)\n",
    "    print(A)\n",
    "    return np.linalg.det(A)\n",
    "\n",
    "get_det(7)"
   ]
  },
  {
   "cell_type": "markdown",
   "metadata": {},
   "source": [
    "### 5\n",
    "**(a)** We have\n",
    "$$u''(i)\\approx \\frac{u(i+h) - 2u(i) + u(i-h)}{h^2}$$\n",
    "\n",
    "so\n",
    "\n",
    "$$\\frac{u_{i+1}-2u_{i}+u_{i-1}}{h^2} + au_i = 1$$\n",
    "\n",
    "for $0 < i < n$. There are also the boundary conditions\n",
    "\n",
    "$$u_0 = 1, u_n = -1.$$\n",
    "\n",
    "Solving these equations gives the approximate solution. Code follows:"
   ]
  },
  {
   "cell_type": "code",
   "execution_count": 276,
   "metadata": {},
   "outputs": [
    {
     "name": "stdout",
     "output_type": "stream",
     "text": [
      "For h=pi/100,\n",
      "u(pi/2) = 1.3252932339837897\n"
     ]
    },
    {
     "data": {
      "text/plain": [
       "[<matplotlib.lines.Line2D at 0x25c8d146dc8>]"
      ]
     },
     "execution_count": 276,
     "metadata": {},
     "output_type": "execute_result"
    },
    {
     "data": {
      "image/png": "[encoded data removed]",
      "text/plain": [
       "<Figure size 432x288 with 1 Axes>"
      ]
     },
     "metadata": {
      "needs_background": "light"
     },
     "output_type": "display_data"
    }
   ],
   "source": [
    "def solve(n):\n",
    "    h = 1/n\n",
    "\n",
    "    A = []\n",
    "    b = []\n",
    "\n",
    "    # Left point:\n",
    "    row = np.zeros(n+1)\n",
    "    row[0] = 1;\n",
    "    A.append(row); b.append(1)\n",
    "\n",
    "    # Right point:\n",
    "    row = np.zeros(n+1)\n",
    "    row[-1] = 1;\n",
    "    A.append(row); b.append(-1)\n",
    "\n",
    "    # Middle points:\n",
    "    for i in range(1, n):\n",
    "        row = np.zeros(n+1)\n",
    "        row[i-1] = n**2/np.pi**2\n",
    "        row[i] = -2*n**2/np.pi**2 + a_value\n",
    "        row[i+1] = n**2/np.pi**2\n",
    "        A.append(row); b.append(1)\n",
    "\n",
    "    A = np.array(A)\n",
    "    u = np.linalg.inv(A) @ b\n",
    "    return u\n",
    "\n",
    "a_value = 2\n",
    "\n",
    "n = 100\n",
    "u = solve(n)\n",
    "print(\"For h=pi/100,\")\n",
    "print(f\"u(pi/2) = {u[n//2]}\")\n",
    "plt.plot(np.linspace(0, np.pi, n+1), u)"
   ]
  },
  {
   "cell_type": "markdown",
   "metadata": {},
   "source": [
    "**(b)** It is absolutely not correct. The determinant is super large, and so the matrix is very ill-conditioned. In fact, there is no solution for this particular BVP. A basis for the homogenous equation is $\\{\\sin(x), \\cos(x)\\}$ and so $u$ is of the form\n",
    "$$1+c_1\\sin x + c_2\\cos x$$\n",
    "but no values of $c_1, c_2$ fit the boundary conditions.\n",
    "\n",
    "Code follows:"
   ]
  },
  {
   "cell_type": "code",
   "execution_count": 279,
   "metadata": {},
   "outputs": [
    {
     "name": "stdout",
     "output_type": "stream",
     "text": [
      "For h=pi/100,\n",
      "u(pi/2) = 15480.017585900321\n",
      "det(A) = -1.5083965156280976e+295\n"
     ]
    },
    {
     "data": {
      "text/plain": [
       "[<matplotlib.lines.Line2D at 0x25c8d291208>]"
      ]
     },
     "execution_count": 279,
     "metadata": {},
     "output_type": "execute_result"
    },
    {
     "data": {
      "image/png": "[encoded data removed]",
      "text/plain": [
       "<Figure size 432x288 with 1 Axes>"
      ]
     },
     "metadata": {
      "needs_background": "light"
     },
     "output_type": "display_data"
    }
   ],
   "source": [
    "def get_det(n):\n",
    "    h = 1/n\n",
    "\n",
    "    A = []\n",
    "    b = []\n",
    "\n",
    "    # Left point:\n",
    "    row = np.zeros(n+1)\n",
    "    row[0] = 1;\n",
    "    A.append(row); b.append(1)\n",
    "\n",
    "    # Right point:\n",
    "    row = np.zeros(n+1)\n",
    "    row[-1] = 1;\n",
    "    A.append(row); b.append(-1)\n",
    "\n",
    "    # Middle points:\n",
    "    for i in range(1, n):\n",
    "        row = np.zeros(n+1)\n",
    "        row[i-1] = n**2/np.pi**2\n",
    "        row[i] = -2*n**2/np.pi**2 + a_value\n",
    "        row[i+1] = n**2/np.pi**2\n",
    "        A.append(row); b.append(1)\n",
    "\n",
    "    A = np.array(A)\n",
    "    return np.linalg.det(A)\n",
    "\n",
    "a_value = 1\n",
    "\n",
    "n = 100\n",
    "u = solve(n)\n",
    "print(\"For h=pi/100,\")\n",
    "print(f\"u(pi/2) = {u[n//2]}\")\n",
    "print(f\"det(A) = {get_det(n)}\")\n",
    "plt.plot(np.linspace(0, np.pi, n+1), u)"
   ]
  },
  {
   "cell_type": "code",
   "execution_count": null,
   "metadata": {},
   "outputs": [],
   "source": []
  }
 ],
 "metadata": {
  "kernelspec": {
   "display_name": "Python 3",
   "language": "python",
   "name": "python3"
  },
  "language_info": {
   "codemirror_mode": {
    "name": "ipython",
    "version": 3
   },
   "file_extension": ".py",
   "mimetype": "text/x-python",
   "name": "python",
   "nbconvert_exporter": "python",
   "pygments_lexer": "ipython3",
   "version": "3.7.4"
  }
 },
 "nbformat": 4,
 "nbformat_minor": 2
}
