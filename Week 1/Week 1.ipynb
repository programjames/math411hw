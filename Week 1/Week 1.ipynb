{
 "cells": [
  {
   "cell_type": "markdown",
   "metadata": {},
   "source": [
    "1. The partial derivatives are as follows:\n",
    "\\begin{align}\n",
    "\\frac{\\partial f}{\\partial x} &= \\cos(x+2y),\\\\\n",
    "\\frac{\\partial f}{\\partial y} &= 2\\cos(x+2y),\\\\\n",
    "\\frac{\\partial^2 f}{\\partial x^2} &= -\\sin(x+2y),\\\\\n",
    "\\frac{\\partial^2 f}{\\partial y^2} &= -4\\sin(x+2y),\\\\\n",
    "\\frac{\\partial^2 f}{\\partial x\\partial y} &= -2\\sin(x+2y)\n",
    "\\end{align}\n",
    "So the second order Taylor series about $(\\pi/2, 0)$ is\n",
    "\\begin{align*}\n",
    "f(x, y)&\\approx \\sin(\\pi/2) + (x-\\pi/2)\\cos(\\pi/2) + 2y\\cos(\\pi/2) - \\frac{(x-\\pi/2)^2}{2}\\sin(\\pi/2) - 4\\frac{y^2}{2}\\sin(\\pi/2) - 4\\frac{(x-\\pi/2)y}{2}\\sin(\\pi/2)\\\\\n",
    "&= 1 - \\frac{(x+2y-\\pi/2)^2}{2}\n",
    "\\end{align*}\n",
    "Therefore $f(1.5, 0.2)\\approx 1 - \\frac{(1.9-\\pi/2)^2}{2} \\approx \\boxed{0.946}$.\n",
    "\n",
    "2. (a) Explicit Euler Method"
   ]
  },
  {
   "cell_type": "code",
   "execution_count": 17,
   "metadata": {},
   "outputs": [
    {
     "name": "stdout",
     "output_type": "stream",
     "text": [
      "Explicit Euler Method:\n",
      "y(2) = 8.25\n"
     ]
    }
   ],
   "source": [
    "# set up variables & functions\n",
    "h = 1\n",
    "def y_prime(t, y):\n",
    "    return 1 + t + y/2\n",
    "\n",
    "t = 0\n",
    "y = 1\n",
    "while t < 2:\n",
    "    t += h\n",
    "    y += h*y_prime(t, y)\n",
    "\n",
    "print(\"Explicit Euler Method:\")\n",
    "print(\"y(2) =\", y)"
   ]
  },
  {
   "cell_type": "markdown",
   "metadata": {},
   "source": [
    "2. (b) Implicit Euler Method\n",
    "We first need to implicitly solve the equation\n",
    "\\begin{align*}\n",
    "y(t) &= y(t-h) + hy'(t)\\\\\n",
    "&= y(t-h) + h + ht + hy(t)/2\\\\\n",
    "&\\implies\\\\\n",
    "y(t)\\left(1-\\frac{h}2\\right)&= y(t-h) + h + ht\\\\\n",
    "&\\Longleftrightarrow\\\\\n",
    "y(t) &= \\frac{2y(t-h) + 2h + 2ht}{2-h}\n",
    "\\end{align*}"
   ]
  },
  {
   "cell_type": "code",
   "execution_count": 18,
   "metadata": {},
   "outputs": [
    {
     "name": "stdout",
     "output_type": "stream",
     "text": [
      "Implicit Euler Method:\n",
      "y(2) = 18.0\n"
     ]
    }
   ],
   "source": [
    "# set up variables\n",
    "h = 1\n",
    "\n",
    "# Just iterate up\n",
    "y = 1\n",
    "t = 0\n",
    "while t < 2:\n",
    "    t += h\n",
    "    y = (2*y + 2*h + 2*h*t)/(2-h)\n",
    "print(\"Implicit Euler Method:\")\n",
    "print(\"y(2) =\", y)"
   ]
  },
  {
   "cell_type": "markdown",
   "metadata": {},
   "source": [
    "3. (a) Setting $v=u'$ we have $v'=u''$ so the equation becomes\n",
    "$$v' = 3t-\\gamma v - 2\\cos(u)$$\n",
    "So $g(u,v) = 3t-\\gamma v - 2\\cos(u)$. Also, $v(0) = u'(0) = -1$.\n",
    "\n",
    "   (b) Code follows:"
   ]
  },
  {
   "cell_type": "code",
   "execution_count": 37,
   "metadata": {},
   "outputs": [
    {
     "name": "stdout",
     "output_type": "stream",
     "text": [
      "For h = 1/5:\n",
      "u = 20.572682932821422, v = 11.532886974365958\n",
      "For h = 1/20:\n",
      "u = 22.36896916546019, v = 12.099340593424884\n"
     ]
    }
   ],
   "source": [
    "import numpy as np\n",
    "\n",
    "gamma = 1 # We aren't given this value, so just assuming it is 1.\n",
    "\n",
    "def g(t, u, v):\n",
    "    return 3*t - gamma * v - 2*np.cos(u)\n",
    "\n",
    "def f(t, y):\n",
    "    # y[0] = u\n",
    "    # y[1] = v\n",
    "    return np.array([y[1], g(t, *y)])\n",
    "\n",
    "def Huens(y, t, h, f):\n",
    "    return [y + 1/2 * h * (f(t, y) + f(t, y + h*f(t, y))), t + h]\n",
    "\n",
    "y = np.array([1, -1]) # initial conditions: u=1, v=-1\n",
    "h = 1/5\n",
    "t = 0\n",
    "while t < 5:\n",
    "    y, t = Huens(y, t, h, f)\n",
    "print(\"For h = 1/5:\")\n",
    "print(f\"u = {y[0]}, v = {y[1]}\")\n",
    "\n",
    "y = np.array([1, -1]) # initial conditions: u=1, v=-1\n",
    "h = 1/20\n",
    "t = 0\n",
    "while t < 5:\n",
    "    y, t = Huens(y, t, h, f)\n",
    "print(\"For h = 1/20:\")\n",
    "print(f\"u = {y[0]}, v = {y[1]}\")"
   ]
  },
  {
   "cell_type": "markdown",
   "metadata": {},
   "source": [
    "I have just assumed $\\gamma = 1$ because it wasn't given in the problem. For $h=1/20$ you gain much more accuracy. If you take $h=1/1000$ you get $u\\approx 22.186$ and $v\\approx 12.000$. The values for $h=1/5$ are about $4-7\\%$ off of this value while the values for $h=1/20$ are less than $1\\%$ off."
   ]
  },
  {
   "cell_type": "markdown",
   "metadata": {},
   "source": [
    "4. (a) The fixed point iteration system is:\n",
    "\\begin{align*}\n",
    "x_{n+1} &= \\sqrt{1-y_n^2} \\\\\n",
    "y_{n+1} &= \\frac15 \\sqrt{9-5x_n^2}\n",
    "\\end{align*}\n",
    "Which is equivalent to\n",
    "\\begin{align*}\n",
    "x_{n+1}^2 + y_n^2 &= 1\\\\\n",
    "5x_n^2 + 25y_{n+1}^2 &= 9\n",
    "\\end{align*}\n",
    "Which is the original system (assuming $x_n, y_n$ are a Cauchy sequence and $n$ tends towards infinity (so $x_{n+1} = x_n, y_{n+1} = y_n$)).\n",
    "\n",
    "   (b) We have\n",
    "$$\\textbf{g} = \\binom{\\sqrt{1-y^2}}{\\frac15\\sqrt{9-5x^2}}$$\n",
    "So the Jacobian matrix $J(\\textbf{g})$ is\n",
    "$$\\begin{bmatrix}\n",
    "0 & -\\frac{y}{\\sqrt{1-y^2}} \\\\ \n",
    "-\\frac{x}{\\sqrt{9-5x^2}} & 0\n",
    "\\end{bmatrix}$$\n",
    "\n",
    "   (c) The $1$-norm and $\\infty$-norm are both equal to $\\max\\left(\\frac{y}{\\sqrt{1-y^2}}, \\frac{x}{\\sqrt{9-5x^2}}\\right)$. This is less than $1$ iff\n",
    "\\begin{align*}\n",
    "y < \\sqrt{1-y^2},\\quad &\\text{and}\\quad x < \\sqrt{9-5x^2}\\\\\n",
    "&\\Longleftrightarrow\\\\\n",
    "y^2 < \\frac12,\\quad &\\text{and}\\quad x^2 < \\frac{3}{2}\n",
    "\\end{align*}\n",
    "Which is true inside the region $R$.\n",
    "\n",
    "   (d) This means that $\\textbf{g}$ is Lipschitz continuous (the exercise proves it's a contraction map in $R$, and we already knew it was continuos). Therefore by the Banach fixed-point theorem there is exactly one fixed point in $R$ and our sequence $x_n, y_n$ defined above is a Cauchy sequence (successive $x_n, y_n$ get arbitrarily close and approach some limit point—the fixed point).\n",
    "   \n",
    "   (e) Code follows:"
   ]
  },
  {
   "cell_type": "code",
   "execution_count": 54,
   "metadata": {},
   "outputs": [
    {
     "name": "stdout",
     "output_type": "stream",
     "text": [
      "Took 22 iterations.\n",
      "(x, y) = (0.8944271922592694, 0.4472135980186649)\n",
      "x^2 + y^2 = 1.0000000045056\n",
      "5x^2 + 25y^2 = 9.000000067583999\n"
     ]
    }
   ],
   "source": [
    "import math\n",
    "\n",
    "x, y = 0.5, 0.3 # initial values\n",
    "\n",
    "def g(x, y):\n",
    "    return math.sqrt(1-y**2), 1/5 * math.sqrt(9 - 5*x**2)\n",
    "\n",
    "epsilon = 1e-8\n",
    "prev_x, prev_y = x, y\n",
    "x, y = g(x, y)\n",
    "iters = 0\n",
    "while (prev_x - x)**2 + (prev_y - y)**2 > epsilon**2:\n",
    "    iters+=1\n",
    "    prev_x, prev_y = x, y\n",
    "    x, y = g(x, y)\n",
    "print(f\"Took {iters} iterations.\")\n",
    "print(f\"(x, y) = {(x, y)}\")\n",
    "print(\"x^2 + y^2 =\", x**2 + y**2)\n",
    "print(\"5x^2 + 25y^2 =\", 5*x**2 + 25*y**2)"
   ]
  },
  {
   "cell_type": "markdown",
   "metadata": {},
   "source": [
    "5. (a) We have the system\n",
    "$$f(\\textbf{x}) = 0$$\n",
    "where\n",
    "$$f(x) = \\begin{pmatrix}\n",
    "x_1^2+x_2^2+x_3^2 - 1\\\\ \n",
    "2x_1^2+x_2^2 - 4x_3\\\\ \n",
    "3x_1^2-4x_2+x_3^2\n",
    "\\end{pmatrix}$$\n",
    "so\n",
    "$$J(\\textbf{x}) = \\begin{bmatrix}\n",
    "2x_1 & 2x_2 & 2x_3\\\\ \n",
    "4x_1 & 2x_2 & -4\\\\ \n",
    "6x_1 & -4 & 2x_3\n",
    "\\end{bmatrix}$$\n",
    "Then\n",
    "$$J_0 = \\begin{bmatrix}\n",
    "1 & 1 & 1\\\\ \n",
    "2 & 1 & -4\\\\ \n",
    "3 & -4 & 1\n",
    "\\end{bmatrix}$$\n",
    "   \n",
    "   (b) Code follows:"
   ]
  },
  {
   "cell_type": "code",
   "execution_count": 68,
   "metadata": {},
   "outputs": [
    {
     "name": "stdout",
     "output_type": "stream",
     "text": [
      "(x, y, z) = (0.7921987726309627, 0.4835800410479299, 0.372251861703981)\n",
      "It took 4 iterations.\n"
     ]
    }
   ],
   "source": [
    "import numpy as np\n",
    "\n",
    "x = np.array([1/2, 1/2, 1/2]) # initial guess\n",
    "def f(x):\n",
    "    return np.array([x[0]**2 + x[1]**2 + x[2]**2 - 1,\n",
    "                    2*x[0]**2 + x[1]**2 - 4*x[2],\n",
    "                    3*x[0]**2 - 4*x[1] + x[2]**3])\n",
    "def J(x):\n",
    "    return np.array([[2*x[0], 2*x[1], 2*x[2]],\n",
    "                     [4*x[0], 2*x[1], -4],\n",
    "                     [6*x[0], -4, 2*x[2]]])\n",
    "def Newton(x):\n",
    "    J_inverse = np.linalg.inv(J(x))\n",
    "    return x - np.matmul(J_inverse, f(x))\n",
    "\n",
    "tolerance = 1e-7\n",
    "prev_x = np.copy(x)\n",
    "x = Newton(x)\n",
    "iterations = 0\n",
    "while sum((x - prev_x)**2) > tolerance**2:\n",
    "    prev_x = np.copy(x)\n",
    "    x = Newton(x)\n",
    "    iterations += 1\n",
    "print(f\"(x, y, z) = {x[0], x[1], x[2]}\")\n",
    "print(f\"It took {iterations} iterations.\")"
   ]
  },
  {
   "cell_type": "markdown",
   "metadata": {},
   "source": [
    "    (c) What if we don't update our Jacobian matrix? Here's the code for that:"
   ]
  },
  {
   "cell_type": "code",
   "execution_count": 72,
   "metadata": {},
   "outputs": [
    {
     "name": "stdout",
     "output_type": "stream",
     "text": [
      "(x, y, z) = (0.7921988030681704, 0.48358004128817467, 0.37225186166164975)\n",
      "It took 28 iterations.\n"
     ]
    }
   ],
   "source": [
    "x = np.array([1/2, 1/2, 1/2]) # initial guess\n",
    "def f(x):\n",
    "    return np.array([x[0]**2 + x[1]**2 + x[2]**2 - 1,\n",
    "                    2*x[0]**2 + x[1]**2 - 4*x[2],\n",
    "                    3*x[0]**2 - 4*x[1] + x[2]**3])\n",
    "def J(x):\n",
    "    return np.array([[2*x[0], 2*x[1], 2*x[2]],\n",
    "                     [4*x[0], 2*x[1], -4],\n",
    "                     [6*x[0], -4, 2*x[2]]])\n",
    "J0 = J(x)\n",
    "J_inverse = np.linalg.inv(J0)\n",
    "def Newton(x):\n",
    "    return x - np.matmul(J_inverse, f(x))\n",
    "\n",
    "tolerance = 1e-7\n",
    "prev_x = np.copy(x)\n",
    "x = Newton(x)\n",
    "iterations = 0\n",
    "while sum((x - prev_x)**2) > tolerance**2:\n",
    "    prev_x = np.copy(x)\n",
    "    x = Newton(x)\n",
    "    iterations += 1\n",
    "print(f\"(x, y, z) = {x[0], x[1], x[2]}\")\n",
    "print(f\"It took {iterations} iterations.\")"
   ]
  },
  {
   "cell_type": "markdown",
   "metadata": {},
   "source": [
    "It does still converge, but it takes 7x more iterations of the algorithm to converge. But let's time it, because the algorithm is quicker to run even if it takes more iterations:"
   ]
  },
  {
   "cell_type": "code",
   "execution_count": 81,
   "metadata": {},
   "outputs": [
    {
     "name": "stdout",
     "output_type": "stream",
     "text": [
      "It took 6.936999320983887e-05 sec per iteration for the first algorithm.\n",
      "It took 7.710011005401611e-06 sec per iteration for the second algorithm.\n",
      "\n",
      "This means the second algorithm runs 8.997392242532268 times faster.\n"
     ]
    }
   ],
   "source": [
    "import time\n",
    "x = np.array([1/2, 1/2, 1/2])\n",
    "\n",
    "def f(x):\n",
    "    return np.array([x[0]**2 + x[1]**2 + x[2]**2 - 1,\n",
    "                    2*x[0]**2 + x[1]**2 - 4*x[2],\n",
    "                    3*x[0]**2 - 4*x[1] + x[2]**3])\n",
    "def J(x):\n",
    "    return np.array([[2*x[0], 2*x[1], 2*x[2]],\n",
    "                     [4*x[0], 2*x[1], -4],\n",
    "                     [6*x[0], -4, 2*x[2]]])\n",
    "def Newton_partb(x):\n",
    "    J_inverse = np.linalg.inv(J(x))\n",
    "    return x - np.matmul(J_inverse, f(x))\n",
    "\n",
    "J0 = J(x)\n",
    "J0_inverse = np.linalg.inv(J0)\n",
    "def Newton_partc(x):\n",
    "    return x - np.matmul(J0_inverse, f(x))\n",
    "\n",
    "trials = 100000\n",
    "t = time.time()\n",
    "for i in range(trials):\n",
    "    Newton_partb(x)\n",
    "time_partb = time.time() - t\n",
    "print(f\"It took {time_partb/trials} sec per iteration for the first algorithm.\")\n",
    "t = time.time()\n",
    "for i in range(trials):\n",
    "    Newton_partc(x)\n",
    "time_partc = time.time() - t\n",
    "print(f\"It took {time_partc/trials} sec per iteration for the second algorithm.\")\n",
    "\n",
    "print(f\"\\nThis means the second algorithm runs {time_partb/time_partc} times faster.\")"
   ]
  },
  {
   "cell_type": "markdown",
   "metadata": {},
   "source": [
    "My method to time the algorithms isn't perfect, but the second algorithm was much faster per iteration than the second. Even though it took 7x the number of iterations, method $(c)$ actually runs just as fast as method $(b)$ because of this."
   ]
  }
 ],
 "metadata": {
  "kernelspec": {
   "display_name": "Python 3",
   "language": "python",
   "name": "python3"
  },
  "language_info": {
   "codemirror_mode": {
    "name": "ipython",
    "version": 3
   },
   "file_extension": ".py",
   "mimetype": "text/x-python",
   "name": "python",
   "nbconvert_exporter": "python",
   "pygments_lexer": "ipython3",
   "version": "3.7.4"
  }
 },
 "nbformat": 4,
 "nbformat_minor": 2
}
