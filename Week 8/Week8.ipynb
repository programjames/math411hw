{
 "cells": [
  {
   "cell_type": "markdown",
   "metadata": {},
   "source": [
    "#### Note:\n",
    "All code is written in Python 3 with the numpy package."
   ]
  },
  {
   "cell_type": "markdown",
   "metadata": {},
   "source": [
    "### 13.5.1\n",
    "\n",
    "**(a)** Let $u_0 = u(0), u_4 = u(1),$ and let $u_1, u_2, u_3$ be the approximations to $u(1/4), u(2/4), u(3/4)$ respectively. We have\n",
    "$$u'(hi)\\approx \\frac{u_{i+1} - u_{i-1}}{2h}$$\n",
    "and\n",
    "$$u''(hi)\\approx \\frac{u_{i+1}-2u_i+u_{i-1}}{h^2}$$\n",
    "So,\n",
    "$$(hi)^2 = u''(hi) + 2(hi)u'(hi) - (hi)^2u(hi) \\approx \\frac{u_{i+1}-2u_i+u_{i-1}}{h^2} + i(u_{i+1}-u_{i-1}) - h^2i^2u_i$$\n",
    "\n",
    "The difference equations are"
   ]
  },
  {
   "cell_type": "markdown",
   "metadata": {},
   "source": [
    "$$u_0 = 1$$\n",
    "$$\\frac{u_0-2u_1+u_2}{h^4} + \\frac{u_2-u_0}{h^2} - u_1 = 1$$\n",
    "$$\\frac{u_1-2u_2+u_3}{h^4} + 2\\frac{u_3-u_1}{h^2} - 4u_2 = 4$$\n",
    "$$\\frac{u_2-2u_3+u_4}{h^4} + 3\\frac{u_4-u_2}{h^2} - 9u_3 = 9$$\n",
    "$$u_4 = 1$$"
   ]
  },
  {
   "cell_type": "markdown",
   "metadata": {},
   "source": [
    "**(b)** This one is nearly identical to the above, we just replace $u_{i+1}-u_{i-1}$ with $2(u_{i}-u_{i-1})$. The difference equations are\n",
    "$$u_0 = 1$$\n",
    "$$\\frac{u_0-2u_1+u_2}{h^4} + 2\\frac{u_1-u_0}{h^2} - u_1 = 1$$\n",
    "$$\\frac{u_1-2u_2+u_3}{h^4} + 4\\frac{u_2-u_1}{h^2} - 4u_2 = 4$$\n",
    "$$\\frac{u_2-2u_3+u_4}{h^4} + 6\\frac{u_3-u_2}{h^2} - 9u_3 = 9$$\n",
    "$$u_4 = 1$$"
   ]
  },
  {
   "cell_type": "markdown",
   "metadata": {},
   "source": [
    "**(c)** We have\n",
    "$$\\frac{u_2-2u_1+u_0}{h^2}\\approx u''(1/4)\\approx \\frac{u'(2/4) - u'(0)}{2h}\\approx \\frac{\\frac{u_3-u_1}{2h} - u'(0)}{2h}$$\n",
    "therefore\n",
    "$$u'(0)\\approx \\frac{u_3 - 4u_2 + 7u_1 - 4u_0}{4h}$$\n",
    "Similarly,\n",
    "$$u'(1)\\approx \\frac{u_1  - 4u_2 + 7u_3 - 4u_4}{4h}$$\n",
    "\n",
    "The difference equations are\n",
    "\n",
    "$$u_0 + \\frac{u_3 - 4u_2 + 7u_1 - 4u_0}{4h} = 1$$\n",
    "$$\\frac{u_0-2u_1+u_2}{h^4} + \\frac{u_2-u_0}{h^2} - u_1 = 1$$\n",
    "$$\\frac{u_1-2u_2+u_3}{h^4} + 2\\frac{u_3-u_1}{h^2} - 4u_2 = 4$$\n",
    "$$\\frac{u_2-2u_3+u_4}{h^4} + 3\\frac{u_4-u_2}{h^2} - 9u_3 = 9$$\n",
    "$$u_4 + \\frac{u_1  - 4u_2 + 7u_3 - 4u_4}{4h} = \\frac{-1}2$$"
   ]
  },
  {
   "cell_type": "markdown",
   "metadata": {},
   "source": [
    "### 13.5.2\n",
    "\n",
    "**(a)**\n",
    "\n",
    "We have\n",
    "$$\\frac{d}{dx}\\left((1+x^2)\\frac{du}{dx}\\right) = 2xu' + (1+x^2)u''$$\n",
    "so\n",
    "$$f(x_i)\\approx x_i\\cdot \\frac{u_{i+1}-u_{i-1}}{h} + (1+x_i^2)\\cdot \\frac{u_{i+1}-2u_i+u_{i}}{h^2}$$\n",
    "$$\\Longleftrightarrow$$\n",
    "$$i(u_{i+1}-u_{i-1}) + \\frac{u_{i+1} - 2u_i+u_{i-1}}{h^2} + i^2(u_{i+1} - 2u_i+u_{i-1}) - f(x_i)\\approx 0$$\n",
    "$$\\Longleftrightarrow$$\n",
    "$$\\left(i^2+i+\\frac1{h^2}\\right)u_{i+1} - \\left(2i^2+\\frac{2}{h^2}\\right)u_i + \\left(i^2-i+\\frac{1}{h^2}\\right)u_{i-1} - f(x_i)\\approx 0$$\n",
    "for $0 < i < n = \\frac1h$ and $x_i = ih$.\n",
    "\n",
    "On the left endpoint we have\n",
    "$$u_0 = 1$$\n",
    "and on the right we have\n",
    "$$0 = u'_n\\approx \\frac{u_{n}-u_{n-1}}{h}.$$\n",
    "\n",
    "The difference equations are:\n",
    "$$u_0 = 1$$\n",
    "$$u_{n}-u_{n-1} = 0$$\n",
    "$$\\left(i^2+i+\\frac1{h^2}\\right)u_{i+1} - \\left(2i^2+\\frac{2}{h^2}\\right)u_i + \\left(i^2-i+\\frac{1}{h^2}\\right)u_{i-1} = f(x_i)$$\n",
    "\n",
    "**(b)** This is written in Python, not MATLAB:"
   ]
  },
  {
   "cell_type": "code",
   "execution_count": 103,
   "metadata": {},
   "outputs": [
    {
     "name": "stdout",
     "output_type": "stream",
     "text": [
      "0.015786867317689857\n"
     ]
    },
    {
     "data": {
      "image/png": "[encoded data removed]",
      "text/plain": [
       "<Figure size 432x288 with 1 Axes>"
      ]
     },
     "metadata": {
      "needs_background": "light"
     },
     "output_type": "display_data"
    }
   ],
   "source": [
    "import numpy as np\n",
    "import matplotlib.pyplot as plt\n",
    "\n",
    "def f(x):\n",
    "    return 2*(3*x**2 - 2*x + 1)\n",
    "\n",
    "def u_exact(x):\n",
    "    return (1-x)**2\n",
    "\n",
    "def solve(n):\n",
    "    h = 1/n\n",
    "\n",
    "    A = []\n",
    "    b = []\n",
    "\n",
    "    # Left point:\n",
    "    row = np.zeros(n+1)\n",
    "    row[0] = 1\n",
    "    A.append(row); b.append(1)\n",
    "\n",
    "    # Right point:\n",
    "    row = np.zeros(n+1)\n",
    "    row[-1] = 1; row[-2] = -1\n",
    "    A.append(row); b.append(0)\n",
    "\n",
    "    # Middle points:\n",
    "    for i in range(1, n):\n",
    "        row = np.zeros(n+1)\n",
    "        row[i-1] = i**2 - i + n**2\n",
    "        row[i] = -2*(i**2 + n**2)\n",
    "        row[i+1] = i**2 + i + n**2\n",
    "        A.append(row); b.append(f(i*h))\n",
    "\n",
    "    A = np.array(A)\n",
    "    u = np.linalg.inv(A) @ b\n",
    "    return u\n",
    "\n",
    "e = []\n",
    "\n",
    "ns = list(range(5, 100))\n",
    "\n",
    "for n in ns:\n",
    "    x = np.array([i/n for i in range(n+1)])\n",
    "    correct = u_exact(x)\n",
    "    u = solve(n)\n",
    "    #print(u)\n",
    "    #print(correct)\n",
    "    error = max(abs(u - correct))\n",
    "    #print(error)\n",
    "    e.append(error)\n",
    "    \n",
    "e = np.array(e)\n",
    "plt.plot(ns, e)\n",
    "plt.title(\"Error\")\n",
    "plt.ylabel(\"Global Error\")\n",
    "plt.xlabel(\"Mesh points\")"
   ]
  },
  {
   "cell_type": "code",
   "execution_count": 104,
   "metadata": {},
   "outputs": [
    {
     "data": {
      "image/png": "[encoded data removed]",
      "text/plain": [
       "<Figure size 432x288 with 1 Axes>"
      ]
     },
     "metadata": {
      "needs_background": "light"
     },
     "output_type": "display_data"
    }
   ],
   "source": [
    "log_e = np.log(e)\n",
    "log_n = np.log(ns)\n",
    "\n",
    "plt.plot(ns[:-1], (log_e[1:] - log_e[:-1])/(log_n[:-1] - log_n[1:]))\n",
    "plt.title(\"Order\")\n",
    "pass"
   ]
  },
  {
   "cell_type": "code",
   "execution_count": 106,
   "metadata": {},
   "outputs": [
    {
     "data": {
      "text/plain": [
       "Text(0.5, 0, 'Mesh points')"
      ]
     },
     "execution_count": 106,
     "metadata": {},
     "output_type": "execute_result"
    },
    {
     "data": {
      "image/png": "[encoded data removed]",
      "text/plain": [
       "<Figure size 432x288 with 1 Axes>"
      ]
     },
     "metadata": {
      "needs_background": "light"
     },
     "output_type": "display_data"
    }
   ],
   "source": [
    "plt.plot(ns, 1/e)\n",
    "plt.title(\"1/Error\")\n",
    "plt.ylabel(\"1/(Global Error)\")\n",
    "plt.xlabel(\"Mesh points\")"
   ]
  },
  {
   "cell_type": "markdown",
   "metadata": {},
   "source": [
    "The order of my method is first order. This is easiest to see from the last graph where I plot $\\frac{1}{\\tau_n}$ where $\\tau_n$ is the global error with $n$ meshpoints. It is only first order rather than second due to how I treated the right most endpoint, where I used a one-sided approximation for $u'$ instead of a centered one."
   ]
  },
  {
   "cell_type": "markdown",
   "metadata": {},
   "source": [
    "### 6.2 (Linfield & Penny)\n",
    "\n",
    "I assume the problem is to use the shooting method to solve the boundary value equation\n",
    "\n",
    "$$x^2y'' - 6y = 0; y(1)=1, y(2) = 1$$\n",
    "\n",
    "Or equivalently,\n",
    "\n",
    "$$y' = z$$\n",
    "$$z' = \\frac{6y}{x^2}$$\n",
    "\n",
    "-----\n",
    "\n",
    "I start with two points $(s_1, y_1), (s_2, y_2)$ where each $s$ is a random guess for $y'(1)$. and $y$ is the estimated value of $y(2)$ (using the Runge-Kutta as an ODE solver). Then I draw a line between the two points and find the value of $s_3$ so that the point $(s_3, y)$ has $y=1$.\n",
    "\n",
    "This line has equation\n",
    "\n",
    "$$y = \\frac{y_2-y_1}{s_2-s_1}x + \\frac{y_1s_2-y_2s_1}{s_2-s_1}$$\n",
    "so\n",
    "$$s_3 = \\frac{1 - \\frac{y_1s_2-y_2s_1}{s_2-s_1}}{\\frac{y_2-y_1}{s_2-s_1}} =\\frac{s_2-s_1 + y_2s_1 - y_1s_2}{y_2-y_1}$$\n",
    "\n",
    "\n",
    "I replace the worse value of $s_1$ and $s_2$ with $s_3$, and repeat this process until I get a good solution.\n",
    "\n",
    "Code follows (in Python + Scipy):"
   ]
  },
  {
   "cell_type": "code",
   "execution_count": 155,
   "metadata": {},
   "outputs": [
    {
     "name": "stdout",
     "output_type": "stream",
     "text": [
      "Took 2 iterations\n",
      "y'(1) = -1.516129032258011 --> y(2) = 0.9999999999999813\n",
      "error = 1.865174681370263e-14\n"
     ]
    }
   ],
   "source": [
    "from scipy.integrate import ode\n",
    "from scipy.interpolate import interp1d\n",
    "\n",
    "def f(x, yz):\n",
    "    return [yz[1], 6*yz[0]/x**2]\n",
    "\n",
    "solver = ode(f).set_integrator('dopri5')\n",
    "\n",
    "def solve(s, h=1e-3):\n",
    "    t = 1\n",
    "    solver.set_initial_value([1, s], t)\n",
    "    while abs(t-2) > h/2:\n",
    "        t += h\n",
    "        y, z = solver.integrate(t)\n",
    "    return y\n",
    "\n",
    "s1, s2 = 1, 2\n",
    "y1, y2 = solve(s1), solve(s2)\n",
    "\n",
    "error = min(abs(y1-1), abs(y2-1))\n",
    "\n",
    "if abs(y1-1) > abs(y2-1):\n",
    "    s = s2\n",
    "    y = y2\n",
    "else:\n",
    "    s = s1\n",
    "    y = y1\n",
    "\n",
    "iterations = 0\n",
    "\n",
    "while error > 0.1:\n",
    "    iterations += 1\n",
    "    if abs(y1-1) > abs(y2-1):\n",
    "        s1 = (s2-s1+s1*y2 - s2*y1)/(y2-y1)\n",
    "        y1 = solve(s1)\n",
    "        s = s2\n",
    "        y = y2\n",
    "        error = abs(y2-1)\n",
    "    else:\n",
    "        s2 = (s2-s1+s1*y2 - s2*y1)/(y2-y1)\n",
    "        y2 = solve(s2)\n",
    "        s = s1\n",
    "        y = y1\n",
    "        error = abs(y1-1)\n",
    "\n",
    "print(f\"Took {iterations} iterations\")\n",
    "print(f\"y'(1) = {s} --> y(2) = {y}\")\n",
    "print(f\"error = {error}\")\n"
   ]
  },
  {
   "cell_type": "markdown",
   "metadata": {},
   "source": [
    "It only takes two iterations no matter the starting points because of how simple the differential equation is."
   ]
  },
  {
   "cell_type": "markdown",
   "metadata": {},
   "source": [
    "### #4\n",
    "**(a)** We have $\\frac{1}{\\delta x} = 5$, so\n",
    "\n",
    "$$\\frac{d}{dt}u_j(t) = 25(u_{j+1}(t) - 2u_j(t) + u_{j-1}(t)) + 1$$\n",
    "\n",
    "As $u_0(t) = u_5(t) = 0$ it can be written as\n",
    "$$u' = 25\\begin{bmatrix}-2 & 1 & 0 & 0 \\\\ 1 & -2 & 1 & 0\\\\ 0 & 1 & -2 & 1\\\\ 0 & 0 & 1 & -2\\\\ \n",
    "\\end{bmatrix}u + \\begin{bmatrix}1\\\\ 1\\\\ 1\\\\ 1\\end{bmatrix}$$\n",
    "\n",
    "where $u = \\begin{bmatrix}u_1\\\\ u_2\\\\ u_3\\\\ u_4\\end{bmatrix}$."
   ]
  },
  {
   "cell_type": "markdown",
   "metadata": {},
   "source": [
    "**(b)** The eigenvalues of that matrix are\n",
    "$$\\lambda_i = -2\\left[1-\\cos\\left(\\frac{i\\pi}{5}\\right)\\right]\\cdot 25$$\n",
    "for $i=1, 2, 3, 4$.\n",
    "\n",
    "If we used $n$ subintervals instead of just $5$, the eigenvalues would be\n",
    "$$\\lambda_i = -2\\left[1-\\cos\\left(\\frac{i\\pi}{n}\\right)\\right]\\cdot n^2$$\n",
    "\n",
    "The condition number of the matrix is\n",
    "$$\\sqrt{\\frac{\\lambda_{n-1}}{\\lambda_1}}\\approx \\sqrt{\\frac{-2n^2\\left(2-\\frac{\\pi^2}{2n^2}\\right)}{-2n^2\\cdot\\frac{\\pi^2}{2n^2}}} = \\sqrt{\\frac{4n^2 - \\pi^2}{\\pi^2}}.$$\n",
    "\n",
    "by expanding the Maclaurin Series for $\\cos x$. As $n$ grows large this is asymptotically equivalent to\n",
    "\n",
    "$$\\frac{2n}{\\pi},$$\n",
    "\n",
    "and so the condition number grows very large, meaning the system becomes stiff."
   ]
  },
  {
   "cell_type": "markdown",
   "metadata": {},
   "source": [
    "**(c)**\n",
    "\n",
    "If we have function\n",
    "$$y' = \\lambda y$$\n",
    "Heun's method would give us\n",
    "$$y_{n+1} = y_n + \\frac{h}{2}\\left[\\lambda y_n + h\\lambda(y_n + \\lambda y_n)\\right] = \\left[1+h\\lambda+\\frac{(h\\lambda)^2}{2}\\right]y_n.$$\n",
    "\n",
    "So $y_n$ is a geometric sequence with common factor\n",
    "$$1+z+\\frac{z^2}{2},$$\n",
    "which we want that to be less than $1$ (where $z=h\\lambda$). Therefore,\n",
    "$$\\frac{z^2}2+z+1\\le 1\\implies z^2+2z\\le 0\\implies -2\\le z \\le 0$$\n",
    "\n",
    "Now, our function $u$ defined in part *(a)* is of the form\n",
    "$$u' = \\sum e^{\\lambda_i}c_i$$\n",
    "where $c_i$'s are different vectors, so if we choose a step size that is stable for every function\n",
    "$$y' = \\lambda_i y$$\n",
    "then it will also be stable for our function $u$. Note that each $\\lambda_i < 0$ so the inequality becomes\n",
    "\n",
    "$$-\\frac{2}{\\lambda_i}\\ge h\\ge 0,$$\n",
    "and so the largest step size we can use is\n",
    "$$h=\\frac{2}{\\lambda_{\\text{min}}} = \\frac{1}{25\\left[1+\\cos\\left(\\frac{\\pi}{5}\\right)\\right]}\\approx 0.022$$\n",
    "\n",
    "**(d)**\n",
    "Now for the code to implement this:"
   ]
  },
  {
   "cell_type": "code",
   "execution_count": 221,
   "metadata": {},
   "outputs": [
    {
     "name": "stdout",
     "output_type": "stream",
     "text": [
      "u(0.5, 10) = 0.12\n"
     ]
    }
   ],
   "source": [
    "A = np.array([[-2, 1, 0, 0],\n",
    "              [1, -2, 1, 0],\n",
    "              [0, 1, -2, 1],\n",
    "              [0, 0, 1, -2]]) * 25\n",
    "\n",
    "def u_prime(u):\n",
    "    return A @ u + 1\n",
    "\n",
    "# Apply Heun's method to get u(10)\n",
    "h = 0.022\n",
    "t = 0\n",
    "x = np.linspace(0, 1, 6)\n",
    "u = x-x**2\n",
    "u = u[1:-1]\n",
    "while abs(t - 10) > h/2:\n",
    "    t += h\n",
    "    up = u_prime(u)\n",
    "    #print(u)#, up, u_prime(u+h*up))\n",
    "    u += 1/2*h*(up + u_prime(u+h*up))\n",
    "\n",
    "print(f\"u(0.5, 10) = {round(u[2], 2)}\")"
   ]
  },
  {
   "cell_type": "markdown",
   "metadata": {},
   "source": [
    "Notice that if we just slightly increase the step size (from $0.022$ to $0.024$) it becomes terribly unstable:"
   ]
  },
  {
   "cell_type": "code",
   "execution_count": 220,
   "metadata": {},
   "outputs": [
    {
     "name": "stdout",
     "output_type": "stream",
     "text": [
      "u(0.5, 10) = 240335090975214.03\n"
     ]
    }
   ],
   "source": [
    "h = 0.024\n",
    "t = 0\n",
    "x = np.linspace(0, 1, 6)\n",
    "u = x-x**2\n",
    "u = u[1:-1]\n",
    "while abs(t - 10) > h/2:\n",
    "    t += h\n",
    "    up = u_prime(u)\n",
    "    #print(u)#, up, u_prime(u+h*up))\n",
    "    u += 1/2*h*(up + u_prime(u+h*up))\n",
    "\n",
    "print(f\"u(0.5, 10) = {u[2]}\")"
   ]
  },
  {
   "cell_type": "code",
   "execution_count": null,
   "metadata": {},
   "outputs": [],
   "source": []
  }
 ],
 "metadata": {
  "kernelspec": {
   "display_name": "Python 3",
   "language": "python",
   "name": "python3"
  },
  "language_info": {
   "codemirror_mode": {
    "name": "ipython",
    "version": 3
   },
   "file_extension": ".py",
   "mimetype": "text/x-python",
   "name": "python",
   "nbconvert_exporter": "python",
   "pygments_lexer": "ipython3",
   "version": "3.7.4"
  }
 },
 "nbformat": 4,
 "nbformat_minor": 2
}
