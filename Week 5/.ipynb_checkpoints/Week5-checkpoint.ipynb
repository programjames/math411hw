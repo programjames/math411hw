{
 "cells": [
  {
   "cell_type": "markdown",
   "metadata": {},
   "source": [
    "### 11.6.3\n",
    "\n",
    "It fits the differential equation:\n",
    "\n",
    "$$y(t) = t^{\\frac32}\\implies y'(t) = \\frac32 t^{\\frac12} = \\frac32y^{\\frac13}$$\n",
    "\n",
    "And it fits the initial value:\n",
    "\n",
    "$$y(0) = 0^{\\frac32} = 0$$\n",
    "\n",
    "Here's some code to apply Euler's method:"
   ]
  },
  {
   "cell_type": "code",
   "execution_count": 59,
   "metadata": {},
   "outputs": [
    {
     "name": "stdout",
     "output_type": "stream",
     "text": [
      "y(9) = 0.0\n"
     ]
    }
   ],
   "source": [
    "# NOTE: All code is written in Python with the modules matplotlib and numpy installed.\n",
    "# You can install them with the following terminal commands:\n",
    "#     pip install matplotlib\n",
    "#     pip install numpy\n",
    "\n",
    "def yp(y):\n",
    "    return 3/2 * y**(1/3)\n",
    "h = 1e-3\n",
    "y = t = 0\n",
    "end = 9\n",
    "\n",
    "while t < end:\n",
    "    y += h*yp(y)\n",
    "    t += h\n",
    "    \n",
    "print(f\"y({end}) = {y}\")"
   ]
  },
  {
   "cell_type": "markdown",
   "metadata": {},
   "source": [
    "It fails because $y'$ is always equal to $0$ when $y$ is equal to $0$, so $y$ just stays zero. In fact, a second solution to the initial value problem is $y(t) = 0$, so Euler's method in this case is just giving the values for this other solution.\n",
    "\n",
    "If you slightly perturb the initial value so that $y = 10^{-5}$ instead of $0$ at the start, then it fits very closely with the function given:"
   ]
  },
  {
   "cell_type": "code",
   "execution_count": 16,
   "metadata": {},
   "outputs": [
    {
     "name": "stdout",
     "output_type": "stream",
     "text": [
      "y(9.000009999828448) = 27.002022653914178\n",
      "(Correct value: 27.000044999240515)\n"
     ]
    }
   ],
   "source": [
    "def yp(y):\n",
    "    return 3/2 * y**(1/3)\n",
    "h = 1e-5\n",
    "t = 0\n",
    "y = 1e-5\n",
    "end = 9\n",
    "\n",
    "while t < end:\n",
    "    y += h*yp(y)\n",
    "    t += h\n",
    "    \n",
    "print(f\"y({t}) = {y}\")\n",
    "print(f\"(Correct value: {t**(3/2)})\")"
   ]
  },
  {
   "cell_type": "markdown",
   "metadata": {},
   "source": [
    "### 11.6.5\n",
    "\n",
    "We start with\n",
    "\n",
    "$$R_0 = 2, F_0 = 1$$\n",
    "\n",
    "**Euler's method**\n",
    "\n",
    "After one step, we have\n",
    "\n",
    "$$R_{0.1} = R_0 + 0.1(2-F_0)(R_0) = 2.2$$\n",
    "$$F_{0.1} = F_0 + 0.1(R_0-2)F_0 = 1$$\n",
    "\n",
    "**Midpoint method**\n",
    "\n",
    "The midpoint is\n",
    "\n",
    "$$R_{0.05} = 2 + 0.05(2-1)(2) = 2.1$$\n",
    "$$F_{0.05} = 1 + 0.05(2-2)(1) = 1$$\n",
    "\n",
    "So after one step we have\n",
    "\n",
    "$$R_{0.1} = R_0 + 0.1(2-F_{0.05})R_{0.05} = 2.21$$\n",
    "$$F_{0.1} = F_0 + 0.1(2-R_{0.05})F_{0.05} = 0.99$$\n",
    "\n",
    "**Heun's method**\n",
    "\n",
    "Using the Euler's method we come up with\n",
    "\n",
    "$$\\tilde{R}_{0.1} = R_0 + 0.1(2-F_0)(R_0) = 2.2$$\n",
    "$$\\tilde{F}_{0.1} = F_0 + 0.1(R_0-2)F_0 = 1$$\n",
    "\n",
    "So after one step we have\n",
    "\n",
    "$$R_{0.1} = R_0 + 0.05[(2-F_0)R_0 + (2-\\tilde{F}_{0.1})\\tilde{R}_{0.1}] = 2 + 0.05[2 + 2.2] = 2.21$$\n",
    "$$F_{0.1} = F_0 + 0.05[(R_0-2)F_0 + (\\tilde{R}_{0.1}-2)\\tilde{F}_{0.1}] = 1 + 0.05[0 - 0.2] = 0.99$$"
   ]
  },
  {
   "cell_type": "markdown",
   "metadata": {},
   "source": [
    "### 11.6.6\n",
    "\n",
    "First to calculate the $k$-values. We have\n",
    "\n",
    "$$\\begin{align*}\n",
    "k_1 &= \\lambda y\\\\\n",
    "k_2 &= \\lambda (y + \\frac{h}{2}k_1) = \\left(\\lambda + \\frac{h\\lambda^2}{2}\\right)y\\\\\n",
    "k_3 &= \\lambda (y + \\frac{h}{2}k_2) = \\left(\\lambda + \\frac{h\\lambda^2}{2} + \\frac{h^2\\lambda^3}{4}\\right)y\\\\\n",
    "k_4 &= \\lambda (y + hk_3) = \\left(\\lambda + h\\lambda^2 + \\frac{h^2\\lambda^3}{2} + \\frac{h^3\\lambda^4}{4}\\right)y\n",
    "\\end{align*}$$\n",
    "\n",
    "Then,\n",
    "\n",
    "$$\n",
    "\\begin{align*}\n",
    "y_{k+1} &= y_k + \\frac16h(k_1 + 2k_2 + 2k_3 + k_4)\\\\\n",
    "&= \\left[1 + \\frac{h}{6}\\left(\\lambda + 2\\left(\\lambda + \\frac{h\\lambda^2}{2}\\right) + 2\\left(\\lambda + \\frac{h\\lambda^2}{2} + \\frac{h^2\\lambda^3}{4}\\right) + \\left(\\lambda + h\\lambda^2 + \\frac{h^2\\lambda^3}{2} + \\frac{h^3\\lambda^4}{4}\\right)\\right)\\right]y_k\\\\\n",
    "&= \\left[1 + \\frac{h}{6}\\left(6\\lambda + 3h\\lambda^2 + h^2\\lambda^3 + \\frac{h^3\\lambda^4}{4}\\right)\\right]y_k\\\\\n",
    "&= \\left[1 + h\\lambda + \\frac{(h\\lambda)^2}{2} + \\frac{(h\\lambda)^3}{6} + \\frac{(h\\lambda)^4}{24}\\right]y_k\n",
    "\\end{align*}\n",
    "$$\n",
    "\n",
    "The local truncation error is\n",
    "$$y(t_{k+1}) - y_{k+1}$$\n",
    "where $y$ is the exact solution of the initial value problem\n",
    "$$y' = \\lambda y; y(t_k) = y_k$$\n",
    "\n",
    "Notice that $y^{(n)} = \\lambda^n y$, so the Taylor series of $y$ about $t_k$ is\n",
    "$$y(t) = y_k + (\\lambda y_k)(t-t_k) + (\\lambda^2 y_k)\\frac{(t-t_{k})^2}{2!} + \\cdots$$\n",
    "\n",
    "Then,\n",
    "$$\\begin{align*}\n",
    "y(t_{k+1}) &= y_k + (\\lambda y_k)h + (\\lambda^2 y_k)\\frac{h^2}{2!} + \\cdots\\\\\n",
    "&= [1 + h\\lambda + \\frac{(h\\lambda)^2}{2} + \\frac{(h\\lambda)^3}{6} + \\cdots]y_k\n",
    "\\end{align*}\n",
    "$$\n",
    "\n",
    "Therefore the local truncation error is\n",
    "\n",
    "$$y(t_{k+1}) - y_{k+1} = \\left[\\frac{(h\\lambda)^5}{5!} + \\frac{(h\\lambda)^6}{6!} + \\frac{(h\\lambda)^7}{7!} + \\cdots\\right]y_k = O(h^5)y_k$$\n",
    "\n",
    "and so it is order $5-1=4$."
   ]
  },
  {
   "cell_type": "markdown",
   "metadata": {},
   "source": [
    "### 11.6.7\n",
    "\n",
    "We are under the assumption that $f$ is Lipschitz. First we will show that each $k_i$ is Lipschitz in $y$. It suffices to prove that if $g$ and $h$ are two Lipschitz functions then $f\\circ g$ is also Lipschitz. But this is obvious:\n",
    "\n",
    "$$|g(h(a)) - g(h(b))| \\le L_g|h(a) - h(b)|\\le L_gL_h |a-b|$$\n",
    "\n",
    "$k_1$ is just $f$, so it must be Lipschitz. Each $k_i$ ($2\\le i\\le 4$) is a function of the form\n",
    "\n",
    "$$k_i = f(g_1(t, h), g_2(k_{i-1}))$$\n",
    "\n",
    "where $g_2(y, k_{i-1})$ is linear combination of $y$ and $k_{i-1}$. As both $y$ and $k_{i-1}$ are Lipschitz in $y$, so is $g_2$. Finally, $g_1(t, h)$ is just a constant, so it can be ignored (you let $t$ range through all of $[0, n]$ and whichever value maximises the function $k_i$ is used for the boundary condition).\n",
    "\n",
    "Putting this all together, we find that $k_i$ is Lipschitz if $k_{i-1}$ is, and because $k_1$ is Lipschitz all of $k_1, k_2, k_3,$ and $k_4$ are Lipschitz. Then,\n",
    "\n",
    "$$\\psi(t, y, h) = y + \\frac16h(k_1+2k_2+2k_3+k_4)$$\n",
    "\n",
    "is a linear combination of Lipschitz functions and so is Lipschitz itself. It was proven in the textbook that this was a sufficient condition to show that the Runge-Kutta method is *stable*.\n"
   ]
  },
  {
   "cell_type": "markdown",
   "metadata": {},
   "source": [
    "### #5\n",
    "\n",
    "(a)\n",
    "\n",
    "From the Butcher tableau, we have\n",
    "$$y_{n+1} = y_n + \\frac14\\left[f(t_n, y_n) + 4b_2f(t_n+\\frac23h, y_n+\\beta hf(t_n, y_n))\\right]$$\n",
    "\n",
    "To be consistent we need\n",
    "$$\\frac14[1 + 4b_2] = 1\\implies b_2 = \\frac34$$\n",
    "\n",
    "To be stable we need $\\beta = \\frac23$\n",
    "\n",
    "(b)\n",
    "\n",
    "$$\\begin{align*}\n",
    "k_1 &= f(t_n, y_n)\\\\\n",
    "k_2 &= f(t_n+\\frac23 h, y_n + \\frac23 hk_1)\\\\\n",
    "y_{n+1} &= y_n + \\frac14h\\left[f(t_n, y_n) + 3f\\left(t_n+\\frac23 h, y_n + \\frac23 hk_1\\right)\\right]\n",
    "\\end{align*}$$\n",
    "\n",
    "(c)\n",
    "\n",
    "The second derivative of $y$ is\n",
    "$$y'' = (y')' = \\frac{df(t, y)}{dt} = \\frac{\\partial f(t, y)}{\\partial t} + \\frac{\\partial f(t, y)}{\\partial y}\\frac{\\partial y}{\\partial t} = \\frac{\\partial f(t, y)}{\\partial t} + \\frac{\\partial f(t, y)}{\\partial y}f(t, y)$$\n",
    "\n",
    "So the second order Taylor expansion of $y$ is\n",
    "$$y_{n+1} \\approx y_n + f(t_n, y_n)h + \\left(\\frac{\\partial f(t_n, y_n)}{\\partial t} + \\frac{\\partial f(t_n, y_n)}{\\partial y}f(t_n, y_n)\\right)\\frac{h^2}{2}$$\n",
    "\n",
    "Now, in Ralston's method the second order Taylor expansion is\n",
    "\n",
    "$$\\begin{align*}\n",
    "y_{n+1}&\\approx y_n + \\frac14h\\left[\\left(f(t_n, y_n)\\right) + 3\\left(f(t_n, y_n) + \\left(\\frac{\\partial f(t_n, y_n)}{\\partial t} + \\frac{\\partial f(t_n, y_n)}{\\partial y}f(t_n, y_n)\\right)\\frac{\\left(\\frac23h\\right)^2}{2}\\right)\\right]\\\\\n",
    "&= y_n + f(t_n, y_n)h + \\left(\\frac{\\partial f(t_n, y_n)}{\\partial t} + \\frac{\\partial f(t_n, y_n)}{\\partial y}f(t_n, y_n)\\right)\\frac{h^2}{2}\n",
    "\\end{align*}$$\n",
    "\n",
    "which is the same. Therefore Ralston's method is second order accurate."
   ]
  },
  {
   "cell_type": "markdown",
   "metadata": {},
   "source": [
    "### #6\n",
    "\n",
    "\n",
    "(a) First a correction: the last step should read\n",
    "\n",
    "$$y_{n+1} = y_n + \\frac12\\left[\\frac32 K_1 + \\frac12 K_2\\right]$$\n",
    "\n",
    "instead of\n",
    "\n",
    "$$y_{n+1} = y_n + \\frac32 K_1 + \\frac12 K_2$$\n",
    "\n",
    "Oh wait, this wasn't a mistake in the problem, it's the reason the method doesn't work!\n",
    "\n",
    "Now here's my code:"
   ]
  },
  {
   "cell_type": "code",
   "execution_count": 52,
   "metadata": {},
   "outputs": [
    {
     "data": {
      "text/plain": [
       "<matplotlib.legend.Legend at 0x1cb5f6d0648>"
      ]
     },
     "execution_count": 52,
     "metadata": {},
     "output_type": "execute_result"
    },
    {
     "data": {
      "image/png": "[encoded data removed]",
      "text/plain": [
       "<Figure size 432x288 with 1 Axes>"
      ]
     },
     "metadata": {
      "needs_background": "light"
     },
     "output_type": "display_data"
    }
   ],
   "source": [
    "import numpy as np\n",
    "import matplotlib.pyplot as plt\n",
    "\n",
    "h = 1/50\n",
    "\n",
    "def f(y): # f doesn't depend on t\n",
    "    return -y\n",
    "def next_y(t, y):\n",
    "    k1 = h*f(y)\n",
    "    k2 = h*f(y+1/3*k1)\n",
    "    return y + (3/2*k1 + 1/2*k2)\n",
    "\n",
    "t, y = 0, 1\n",
    "end = 1\n",
    "ts = [t]\n",
    "ys = [y]\n",
    "while t < end:\n",
    "    y = next_y(t, y)\n",
    "    ys.append(y)\n",
    "    t += h\n",
    "    ts.append(t)\n",
    "    \n",
    "def true_y(t):\n",
    "    return np.exp(np.negative(t))\n",
    "\n",
    "plt.plot(ts, ys, label=\"Approximation\")\n",
    "plt.plot(ts, true_y(ts), label=\"True value\")\n",
    "plt.plot(ts, abs(np.subtract(true_y(ts), ys)), label=\"Error\")\n",
    "plt.legend()"
   ]
  },
  {
   "cell_type": "markdown",
   "metadata": {},
   "source": [
    "(b)\n",
    "\n",
    "The issue is the method isn't **consistent**. We have the local truncation error\n",
    "\n",
    "$$\\frac{y_{n+1}-y_n}{h} = \\frac32f(t_n, y_n) + f(t_n+\\frac12h, y_n+\\frac13K_1)$$\n",
    "\n",
    "But,\n",
    "\n",
    "$$\\lim_{h\\to 0}\\frac32f(t_n, y_n) + f(t_n+\\frac12h, y_n+\\frac13K_1) = 2f(t_n, y_n)$$\n",
    "\n",
    "when it should be equal to $f(t_n, y_n)$. If we change the method slightly (as in my \"correction\" above) it works perfectly fine:"
   ]
  },
  {
   "cell_type": "code",
   "execution_count": 57,
   "metadata": {},
   "outputs": [
    {
     "data": {
      "text/plain": [
       "<matplotlib.legend.Legend at 0x1cb64c41448>"
      ]
     },
     "execution_count": 57,
     "metadata": {},
     "output_type": "execute_result"
    },
    {
     "data": {
      "image/png": "[encoded data removed]",
      "text/plain": [
       "<Figure size 432x288 with 1 Axes>"
      ]
     },
     "metadata": {
      "needs_background": "light"
     },
     "output_type": "display_data"
    }
   ],
   "source": [
    "h = 1/50\n",
    "\n",
    "def f(y): # f doesn't depend on t\n",
    "    return -y\n",
    "def next_y(t, y):\n",
    "    k1 = h*f(y)\n",
    "    k2 = h*f(y+1/3*k1)\n",
    "    return y + 0.5*(3/2*k1 + 1/2*k2)\n",
    "\n",
    "t, y = 0, 1\n",
    "end = 1\n",
    "ts = [t]\n",
    "ys = [y]\n",
    "while t < end:\n",
    "    y = next_y(t, y)\n",
    "    ys.append(y)\n",
    "    t += h\n",
    "    ts.append(t)\n",
    "    \n",
    "def true_y(t):\n",
    "    return np.exp(np.negative(t))\n",
    "\n",
    "plt.plot(ts, true_y(ts), label=\"True value\", linewidth=5, color=\"yellow\")\n",
    "plt.plot(ts, ys, label=\"Approximation\")\n",
    "plt.plot(ts, abs(np.subtract(true_y(ts), ys)), label=\"Error\", color=\"red\")\n",
    "plt.legend()"
   ]
  },
  {
   "cell_type": "code",
   "execution_count": null,
   "metadata": {},
   "outputs": [],
   "source": []
  }
 ],
 "metadata": {
  "kernelspec": {
   "display_name": "Python 3",
   "language": "python",
   "name": "python3"
  },
  "language_info": {
   "codemirror_mode": {
    "name": "ipython",
    "version": 3
   },
   "file_extension": ".py",
   "mimetype": "text/x-python",
   "name": "python",
   "nbconvert_exporter": "python",
   "pygments_lexer": "ipython3",
   "version": "3.7.4"
  }
 },
 "nbformat": 4,
 "nbformat_minor": 2
}
