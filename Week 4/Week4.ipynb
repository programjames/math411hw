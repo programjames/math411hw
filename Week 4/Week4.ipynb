{
 "cells": [
  {
   "cell_type": "markdown",
   "metadata": {},
   "source": [
    "1. (a) We have\n",
    "\n",
    "    $$\\int_{0}^{\\pi} \\cos((2i+1)x)\\sin((2j+1)x)dx = \\int_{0}^{\\pi}\\cos((2i-2j)x)+\\cos((2i+2j+2)x)dx = \\left. \\frac{\\sin((2i-2j)x)}{2i-2j} + \\frac{\\sin((2i+2j+2)x)}{2i+2j+2}\\right|^{\\pi}_{0} = 0$$\n",
    "    \n",
    "    $$\\int_{0}^{\\pi} \\sin((2i+1)x)\\cos((2j+1)x)dx = \\frac12\\int_0^\\pi\\sin((2i+2j+2)x)dx = \\left. \\frac12\\cdot \\frac{\\sin((2i+2j+2)x)}{2i+2j+2}\\right|^{\\pi}_{0} = 0$$\n",
    "    \n",
    "    for $i\\ne j$"
   ]
  },
  {
   "cell_type": "code",
   "execution_count": null,
   "metadata": {},
   "outputs": [],
   "source": []
  }
 ],
 "metadata": {
  "kernelspec": {
   "display_name": "Python 3",
   "language": "python",
   "name": "python3"
  },
  "language_info": {
   "codemirror_mode": {
    "name": "ipython",
    "version": 3
   },
   "file_extension": ".py",
   "mimetype": "text/x-python",
   "name": "python",
   "nbconvert_exporter": "python",
   "pygments_lexer": "ipython3",
   "version": "3.7.4"
  }
 },
 "nbformat": 4,
 "nbformat_minor": 2
}
